{
  "nbformat": 4,
  "nbformat_minor": 0,
  "metadata": {
    "colab": {
      "provenance": []
    },
    "kernelspec": {
      "name": "python3",
      "display_name": "Python 3"
    },
    "language_info": {
      "name": "python"
    }
  },
  "cells": [
    {
      "cell_type": "markdown",
      "source": [
        "#AI PROJECT\n",
        "The Code is run from top to bottom. Follow the text that is above each part of the notebook.\n",
        "*Make sure to change the file path according to where the file is located. This file is originally in /content/drive/MyDrive/ColabNotebooks/Group4_AI_Project/Info.csv (Colab Notebooks has a space in it in the path"
      ],
      "metadata": {
        "id": "qkRlxEBIZkfG"
      }
    },
    {
      "cell_type": "markdown",
      "source": [
        "##1. Importing CSV Data\n",
        "\n",
        "**Run** this portion first. It reads the csv file of the data and prints it"
      ],
      "metadata": {
        "id": "sZzuv4b84kdW"
      }
    },
    {
      "cell_type": "code",
      "execution_count": null,
      "metadata": {
        "id": "Z6kvrDZNFN_n",
        "colab": {
          "base_uri": "https://localhost:8080/"
        },
        "outputId": "23db23fa-ab39-4c66-c1ee-bc5441507492"
      },
      "outputs": [
        {
          "output_type": "stream",
          "name": "stdout",
          "text": [
            "     REFNUM TISSUE TYPE  CLASS SEVERITY      X      Y  RADIUS\n",
            "0    mdb001          G   CIRC        B   535.0  425.0   197.0\n",
            "1    mdb002          G   CIRC        B   522.0  280.0    69.0\n",
            "2    mdb003          D   NORM       NaN    NaN    NaN     NaN\n",
            "3    mdb004          D   NORM       NaN    NaN    NaN     NaN\n",
            "4    mdb005          F   CIRC        B   500.0  168.0    26.0\n",
            "..      ...         ...    ...      ...    ...    ...     ...\n",
            "317  mdb318          D   NORM       NaN    NaN    NaN     NaN\n",
            "318  mdb319          D   NORM       NaN    NaN    NaN     NaN\n",
            "319  mdb320          D   NORM       NaN    NaN    NaN     NaN\n",
            "320  mdb321          D   NORM       NaN    NaN    NaN     NaN\n",
            "321  mdb322          D   NORM       NaN    NaN    NaN     NaN\n",
            "\n",
            "[322 rows x 7 columns]\n"
          ]
        }
      ],
      "source": [
        "#importing libraries\n",
        "import numpy as np\n",
        "import torch\n",
        "from gettext import npgettext\n",
        "from glob import glob\n",
        "import pandas as panda\n",
        "import csv\n",
        "import tensorflow as tf\n",
        "import seaborn as sns\n",
        "from sklearn.preprocessing import LabelEncoder\n",
        "\n",
        "#reads text file into pandas DataFrame and makes a header\n",
        "data = panda.read_csv('/content/drive/MyDrive/Colab Notebooks/Group4_AI_Project/Info.csv')\n",
        "\n",
        "#displays DataFrame\n",
        "print(data)\n"
      ]
    },
    {
      "cell_type": "markdown",
      "source": [
        "##2. Printing Class Diagram\n",
        "**Run second to ger the countplot for the different classifications of data**"
      ],
      "metadata": {
        "id": "UegGlefi44vb"
      }
    },
    {
      "cell_type": "code",
      "source": [
        "#SHows the number of scans based on classification types from the scans\n",
        "#CALC: calcification, CIRC: well-defined/circumscribed masses, SPIC: spiculated masses,\n",
        "#MISC: Other, ill-defined masses, ARCH: architectural distortion , ASYM: asymmetry, NORM: normall\n",
        "sns.countplot(x=\"CLASS\", data=data)"
      ],
      "metadata": {
        "colab": {
          "base_uri": "https://localhost:8080/",
          "height": 467
        },
        "id": "KQVqDDGhxMBG",
        "outputId": "43ac1c03-8e77-46d3-eb8f-9244b4ac24fd"
      },
      "execution_count": null,
      "outputs": [
        {
          "output_type": "execute_result",
          "data": {
            "text/plain": [
              "<Axes: xlabel='CLASS', ylabel='count'>"
            ]
          },
          "metadata": {},
          "execution_count": 2
        },
        {
          "output_type": "display_data",
          "data": {
            "text/plain": [
              "<Figure size 640x480 with 1 Axes>"
            ],
            "image/png": "[encoded data removed]"
          },
          "metadata": {}
        }
      ]
    },
    {
      "cell_type": "markdown",
      "source": [
        "##3. ENCODING CLASS DATA\n",
        "**encodes the CLASS data from the dataset"
      ],
      "metadata": {
        "id": "aoJ4aqNlUJRI"
      }
    },
    {
      "cell_type": "code",
      "source": [
        "####### Replace categorical values with numbers########\n",
        "print(\"Distribution of data: \", data['CLASS'].value_counts())\n",
        "\n",
        "#Define the dependent variable that needs to be predicted (labels)\n",
        "y = data[\"CLASS\"].values\n",
        "print(\"Labels before encoding are: \", np.unique(y))\n",
        "\n",
        "# Encoding categorical data from CLASS column\n",
        "from sklearn.preprocessing import LabelEncoder\n",
        "labelencoder = LabelEncoder()\n",
        "\n",
        "#encoding data\n",
        "Y_class = labelencoder.fit_transform(y) #classification data is converted to integers\n",
        "print(\"Labels after encoding are: \", np.unique(y))\n",
        "print(Y_class)"
      ],
      "metadata": {
        "colab": {
          "base_uri": "https://localhost:8080/"
        },
        "id": "mDECcUs178DF",
        "outputId": "a694e980-c084-450e-9634-b508dee5b6cf"
      },
      "execution_count": null,
      "outputs": [
        {
          "output_type": "stream",
          "name": "stdout",
          "text": [
            "Distribution of data:  NORM     207\n",
            "CALC      25\n",
            "CIRC      23\n",
            "ARCH      19\n",
            "SPIC      19\n",
            "ASYM      15\n",
            "MISC      14\n",
            "Name: CLASS, dtype: int64\n",
            "Labels before encoding are:  ['ARCH ' 'ASYM ' 'CALC ' 'CIRC ' 'MISC ' 'NORM ' 'SPIC ']\n",
            "Labels after encoding are:  ['ARCH ' 'ASYM ' 'CALC ' 'CIRC ' 'MISC ' 'NORM ' 'SPIC ']\n",
            "[3 3 5 5 3 5 5 5 5 3 5 3 4 5 3 5 3 5 3 5 3 5 3 5 3 5 5 3 5 4 5 4 5 5 5 5 5\n",
            " 5 5 5 5 5 5 5 5 5 5 5 5 5 5 5 5 5 5 5 5 4 3 5 5 5 4 5 5 5 5 5 3 5 5 1 5 5\n",
            " 1 5 5 5 5 3 1 5 1 5 5 5 5 5 5 1 3 1 5 5 1 5 1 5 1 5 5 1 5 1 1 5 1 5 5 1 1\n",
            " 5 5 5 0 5 0 5 5 0 0 5 5 0 0 0 0 5 5 0 5 3 5 4 5 5 5 5 5 5 3 3 5 4 6 5 5 6\n",
            " 5 0 5 0 5 5 0 5 5 0 5 0 5 5 0 5 0 5 0 5 5 0 0 5 5 5 6 5 5 6 6 5 6 5 5 6 5\n",
            " 6 5 6 5 6 6 5 6 5 6 5 5 6 6 5 5 6 5 6 5 6 6 5 2 5 2 2 2 2 5 2 5 2 2 5 5 2\n",
            " 2 5 5 2 2 5 5 5 2 5 2 5 5 2 5 2 2 2 2 5 5 3 2 5 5 2 2 5 5 2 2 5 5 2 5 5 5\n",
            " 5 5 5 5 4 4 5 4 5 5 3 4 5 5 4 5 5 5 5 5 5 5 5 5 5 5 5 5 5 5 3 5 5 5 5 5 5\n",
            " 5 5 5 5 5 5 5 5 5 5 5 5 5 5 5 4 5 4 3 5 5 5 5 5 5 5]\n"
          ]
        }
      ]
    },
    {
      "cell_type": "markdown",
      "source": [
        "#4. Encoding the Refnum labels"
      ],
      "metadata": {
        "id": "NbWlq7t65A3D"
      }
    },
    {
      "cell_type": "code",
      "source": [
        "y = data[\"REFNUM\"].values\n",
        "print(\"Labels before encoding are: \", np.unique(y))\n",
        "\n",
        "# Encoding categorical data from REFNUM column\n",
        "from sklearn.preprocessing import LabelEncoder\n",
        "labelencoder = LabelEncoder()\n",
        "Y = labelencoder.fit_transform(y) #classification data is converted to integers\n",
        "print(\"Labels after encoding are: \", np.unique(Y))"
      ],
      "metadata": {
        "id": "cBO57T8JrsUA",
        "colab": {
          "base_uri": "https://localhost:8080/"
        },
        "outputId": "7d18ea01-200a-4844-8a26-a7fec56b292a"
      },
      "execution_count": null,
      "outputs": [
        {
          "output_type": "stream",
          "name": "stdout",
          "text": [
            "Labels before encoding are:  ['mdb001' 'mdb002' 'mdb003' 'mdb004' 'mdb005' 'mdb006' 'mdb007' 'mdb008'\n",
            " 'mdb009' 'mdb010' 'mdb011' 'mdb012' 'mdb013' 'mdb014' 'mdb015' 'mdb016'\n",
            " 'mdb017' 'mdb018' 'mdb019' 'mdb020' 'mdb021' 'mdb022' 'mdb023' 'mdb024'\n",
            " 'mdb025' 'mdb026' 'mdb027' 'mdb028' 'mdb029' 'mdb030' 'mdb031' 'mdb032'\n",
            " 'mdb033' 'mdb034' 'mdb035' 'mdb036' 'mdb037' 'mdb038' 'mdb039' 'mdb040'\n",
            " 'mdb041' 'mdb042' 'mdb043' 'mdb044' 'mdb045' 'mdb046' 'mdb047' 'mdb048'\n",
            " 'mdb049' 'mdb050' 'mdb051' 'mdb052' 'mdb053' 'mdb054' 'mdb055' 'mdb056'\n",
            " 'mdb057' 'mdb058' 'mdb059' 'mdb060' 'mdb061' 'mdb062' 'mdb063' 'mdb064'\n",
            " 'mdb065' 'mdb066' 'mdb067' 'mdb068' 'mdb069' 'mdb070' 'mdb071' 'mdb072'\n",
            " 'mdb073' 'mdb074' 'mdb075' 'mdb076' 'mdb077' 'mdb078' 'mdb079' 'mdb080'\n",
            " 'mdb081' 'mdb082' 'mdb083' 'mdb084' 'mdb085' 'mdb086' 'mdb087' 'mdb088'\n",
            " 'mdb089' 'mdb090' 'mdb091' 'mdb092' 'mdb093' 'mdb094' 'mdb095' 'mdb096'\n",
            " 'mdb097' 'mdb098' 'mdb099' 'mdb100' 'mdb101' 'mdb102' 'mdb103' 'mdb104'\n",
            " 'mdb105' 'mdb106' 'mdb107' 'mdb108' 'mdb109' 'mdb110' 'mdb111' 'mdb112'\n",
            " 'mdb113' 'mdb114' 'mdb115' 'mdb116' 'mdb117' 'mdb118' 'mdb119' 'mdb120'\n",
            " 'mdb121' 'mdb122' 'mdb123' 'mdb124' 'mdb125' 'mdb126' 'mdb127' 'mdb128'\n",
            " 'mdb129' 'mdb130' 'mdb131' 'mdb132' 'mdb133' 'mdb134' 'mdb135' 'mdb136'\n",
            " 'mdb137' 'mdb138' 'mdb139' 'mdb140' 'mdb141' 'mdb142' 'mdb143' 'mdb144'\n",
            " 'mdb145' 'mdb146' 'mdb147' 'mdb148' 'mdb149' 'mdb150' 'mdb151' 'mdb152'\n",
            " 'mdb153' 'mdb154' 'mdb155' 'mdb156' 'mdb157' 'mdb158' 'mdb159' 'mdb160'\n",
            " 'mdb161' 'mdb162' 'mdb163' 'mdb164' 'mdb165' 'mdb166' 'mdb167' 'mdb168'\n",
            " 'mdb169' 'mdb170' 'mdb171' 'mdb172' 'mdb173' 'mdb174' 'mdb175' 'mdb176'\n",
            " 'mdb177' 'mdb178' 'mdb179' 'mdb180' 'mdb181' 'mdb182' 'mdb183' 'mdb184'\n",
            " 'mdb185' 'mdb186' 'mdb187' 'mdb188' 'mdb189' 'mdb190' 'mdb191' 'mdb192'\n",
            " 'mdb193' 'mdb194' 'mdb195' 'mdb196' 'mdb197' 'mdb198' 'mdb199' 'mdb200'\n",
            " 'mdb201' 'mdb202' 'mdb203' 'mdb204' 'mdb205' 'mdb206' 'mdb207' 'mdb208'\n",
            " 'mdb209' 'mdb210' 'mdb211' 'mdb212' 'mdb213' 'mdb214' 'mdb215' 'mdb216'\n",
            " 'mdb217' 'mdb218' 'mdb219' 'mdb220' 'mdb221' 'mdb222' 'mdb223' 'mdb224'\n",
            " 'mdb225' 'mdb226' 'mdb227' 'mdb228' 'mdb229' 'mdb230' 'mdb231' 'mdb232'\n",
            " 'mdb233' 'mdb234' 'mdb235' 'mdb236' 'mdb237' 'mdb238' 'mdb239' 'mdb240'\n",
            " 'mdb241' 'mdb242' 'mdb243' 'mdb244' 'mdb245' 'mdb246' 'mdb247' 'mdb248'\n",
            " 'mdb249' 'mdb250' 'mdb251' 'mdb252' 'mdb253' 'mdb254' 'mdb255' 'mdb256'\n",
            " 'mdb257' 'mdb258' 'mdb259' 'mdb260' 'mdb261' 'mdb262' 'mdb263' 'mdb264'\n",
            " 'mdb265' 'mdb266' 'mdb267' 'mdb268' 'mdb269' 'mdb270' 'mdb271' 'mdb272'\n",
            " 'mdb273' 'mdb274' 'mdb275' 'mdb276' 'mdb277' 'mdb278' 'mdb279' 'mdb280'\n",
            " 'mdb281' 'mdb282' 'mdb283' 'mdb284' 'mdb285' 'mdb286' 'mdb287' 'mdb288'\n",
            " 'mdb289' 'mdb290' 'mdb291' 'mdb292' 'mdb293' 'mdb294' 'mdb295' 'mdb296'\n",
            " 'mdb297' 'mdb298' 'mdb299' 'mdb300' 'mdb301' 'mdb302' 'mdb303' 'mdb304'\n",
            " 'mdb305' 'mdb306' 'mdb307' 'mdb308' 'mdb309' 'mdb310' 'mdb311' 'mdb312'\n",
            " 'mdb313' 'mdb314' 'mdb315' 'mdb316' 'mdb317' 'mdb318' 'mdb319' 'mdb320'\n",
            " 'mdb321' 'mdb322']\n",
            "Labels after encoding are:  [  0   1   2   3   4   5   6   7   8   9  10  11  12  13  14  15  16  17\n",
            "  18  19  20  21  22  23  24  25  26  27  28  29  30  31  32  33  34  35\n",
            "  36  37  38  39  40  41  42  43  44  45  46  47  48  49  50  51  52  53\n",
            "  54  55  56  57  58  59  60  61  62  63  64  65  66  67  68  69  70  71\n",
            "  72  73  74  75  76  77  78  79  80  81  82  83  84  85  86  87  88  89\n",
            "  90  91  92  93  94  95  96  97  98  99 100 101 102 103 104 105 106 107\n",
            " 108 109 110 111 112 113 114 115 116 117 118 119 120 121 122 123 124 125\n",
            " 126 127 128 129 130 131 132 133 134 135 136 137 138 139 140 141 142 143\n",
            " 144 145 146 147 148 149 150 151 152 153 154 155 156 157 158 159 160 161\n",
            " 162 163 164 165 166 167 168 169 170 171 172 173 174 175 176 177 178 179\n",
            " 180 181 182 183 184 185 186 187 188 189 190 191 192 193 194 195 196 197\n",
            " 198 199 200 201 202 203 204 205 206 207 208 209 210 211 212 213 214 215\n",
            " 216 217 218 219 220 221 222 223 224 225 226 227 228 229 230 231 232 233\n",
            " 234 235 236 237 238 239 240 241 242 243 244 245 246 247 248 249 250 251\n",
            " 252 253 254 255 256 257 258 259 260 261 262 263 264 265 266 267 268 269\n",
            " 270 271 272 273 274 275 276 277 278 279 280 281 282 283 284 285 286 287\n",
            " 288 289 290 291 292 293 294 295 296 297 298 299 300 301 302 303 304 305\n",
            " 306 307 308 309 310 311 312 313 314 315 316 317 318 319 320 321]\n"
          ]
        }
      ]
    },
    {
      "cell_type": "markdown",
      "source": [
        "#5. Encoding the Tissue Type Data"
      ],
      "metadata": {
        "id": "Q7vE9OeSU4tu"
      }
    },
    {
      "cell_type": "code",
      "source": [
        "y = data[\"TISSUE TYPE\"].values\n",
        "print(\"Labels before encoding are: \", np.unique(y))\n",
        "\n",
        "# Encoding categorical data from CLASS column\n",
        "from sklearn.preprocessing import LabelEncoder\n",
        "labelencoder = LabelEncoder()\n",
        "Y = labelencoder.fit_transform(y) #classification data is converted to integers\n",
        "print(\"Labels after encoding are: \", np.unique(Y))"
      ],
      "metadata": {
        "colab": {
          "base_uri": "https://localhost:8080/"
        },
        "id": "BYeb9_1rr46G",
        "outputId": "5231aa47-f5bf-484d-df38-1d60d6dafaaf"
      },
      "execution_count": null,
      "outputs": [
        {
          "output_type": "stream",
          "name": "stdout",
          "text": [
            "Labels before encoding are:  ['D ' 'F ' 'G ']\n",
            "Labels after encoding are:  [0 1 2]\n"
          ]
        }
      ]
    },
    {
      "cell_type": "markdown",
      "source": [
        "#6. Encoding the Severity Data"
      ],
      "metadata": {
        "id": "3dAXPCHjU-ee"
      }
    },
    {
      "cell_type": "code",
      "source": [
        "y = data[\"SEVERITY\"].values\n",
        "#data.dropna(subset=['SEVERITY'], inplace=True)\n",
        "print(y)\n",
        "data['SEVERITY'].replace( np.nan, 'n', inplace=True)\n",
        "print(y)\n",
        "\n",
        "\n",
        "\n",
        "print(\"Labels before encoding are: \", np.unique(y))\n",
        "\n",
        "#data['SEVERITY'] = data['SEVERITY'].astype(float)\n",
        "# Encoding categorical data from CLASS column\n",
        "from sklearn.preprocessing import LabelEncoder\n",
        "labelencoder = LabelEncoder()\n",
        "Y_severity = labelencoder.fit_transform(y) #classification data is converted to integers\n",
        "print(\"Labels after encoding are: \", np.unique(Y))"
      ],
      "metadata": {
        "colab": {
          "base_uri": "https://localhost:8080/"
        },
        "id": "MKq_BslJr9yj",
        "outputId": "4df0c459-90f1-47c6-9798-b784005c252c"
      },
      "execution_count": null,
      "outputs": [
        {
          "output_type": "stream",
          "name": "stdout",
          "text": [
            "['B ' 'B ' nan nan 'B ' nan nan nan nan 'B ' nan 'B ' 'B ' nan 'B ' nan\n",
            " 'B ' nan 'B ' nan 'B ' nan 'M ' nan 'B ' nan nan 'M ' nan 'B ' nan 'B '\n",
            " nan nan nan nan nan nan nan nan nan nan nan nan nan nan nan nan nan nan\n",
            " nan nan nan nan nan nan nan 'M ' 'B' nan nan nan 'B ' nan nan nan nan nan\n",
            " 'B ' nan nan 'M ' nan nan 'M ' nan nan nan nan 'B ' 'B ' nan 'B ' nan nan\n",
            " nan nan nan nan 'M ' 'B ' 'M ' nan nan 'M ' nan 'B ' nan 'B ' nan nan\n",
            " 'M ' nan 'B ' 'M ' nan 'B ' nan nan 'M ' 'M ' nan nan nan 'M ' nan 'M '\n",
            " nan nan 'M ' 'B ' nan nan 'M ' 'M ' 'B ' 'B ' nan nan 'M ' nan 'B ' nan\n",
            " 'M ' nan nan nan nan nan nan 'M ' 'B ' nan 'B ' 'B ' nan nan 'M ' nan\n",
            " 'B ' nan 'B ' nan nan 'M ' nan nan 'M ' nan 'B ' nan nan 'B ' nan 'B '\n",
            " nan 'B ' nan nan 'M ' 'M ' nan nan nan 'B ' nan nan 'M ' 'M ' nan 'M '\n",
            " nan nan 'M ' nan 'M ' nan 'B ' nan 'B ' 'B ' nan 'B ' nan 'B ' nan nan\n",
            " 'B ' 'B ' nan nan 'M ' nan 'B ' nan 'M ' 'B ' nan 'M ' nan 'M ' 'B ' 'M '\n",
            " 'B ' nan 'M ' nan 'B ' 'B ' nan nan 'B ' 'B ' nan nan 'B ' 'B ' nan nan\n",
            " nan 'M ' nan 'M ' nan nan 'B ' nan 'M ' 'M ' 'B ' 'M ' nan nan 'B ' 'M '\n",
            " nan nan 'B ' 'M ' nan nan 'B ' 'M ' nan nan 'M ' nan nan nan nan nan nan\n",
            " nan 'M ' 'M ' nan 'M ' nan nan 'M ' 'M ' nan nan 'M ' nan nan nan nan nan\n",
            " nan nan nan nan nan nan nan nan nan nan 'B ' nan nan nan nan nan nan nan\n",
            " nan nan nan nan nan nan nan nan nan nan nan nan nan nan 'B ' nan 'B '\n",
            " 'B ' nan nan nan nan nan nan nan]\n",
            "['B ' 'B ' 'n' 'n' 'B ' 'n' 'n' 'n' 'n' 'B ' 'n' 'B ' 'B ' 'n' 'B ' 'n'\n",
            " 'B ' 'n' 'B ' 'n' 'B ' 'n' 'M ' 'n' 'B ' 'n' 'n' 'M ' 'n' 'B ' 'n' 'B '\n",
            " 'n' 'n' 'n' 'n' 'n' 'n' 'n' 'n' 'n' 'n' 'n' 'n' 'n' 'n' 'n' 'n' 'n' 'n'\n",
            " 'n' 'n' 'n' 'n' 'n' 'n' 'n' 'M ' 'B' 'n' 'n' 'n' 'B ' 'n' 'n' 'n' 'n' 'n'\n",
            " 'B ' 'n' 'n' 'M ' 'n' 'n' 'M ' 'n' 'n' 'n' 'n' 'B ' 'B ' 'n' 'B ' 'n' 'n'\n",
            " 'n' 'n' 'n' 'n' 'M ' 'B ' 'M ' 'n' 'n' 'M ' 'n' 'B ' 'n' 'B ' 'n' 'n'\n",
            " 'M ' 'n' 'B ' 'M ' 'n' 'B ' 'n' 'n' 'M ' 'M ' 'n' 'n' 'n' 'M ' 'n' 'M '\n",
            " 'n' 'n' 'M ' 'B ' 'n' 'n' 'M ' 'M ' 'B ' 'B ' 'n' 'n' 'M ' 'n' 'B ' 'n'\n",
            " 'M ' 'n' 'n' 'n' 'n' 'n' 'n' 'M ' 'B ' 'n' 'B ' 'B ' 'n' 'n' 'M ' 'n'\n",
            " 'B ' 'n' 'B ' 'n' 'n' 'M ' 'n' 'n' 'M ' 'n' 'B ' 'n' 'n' 'B ' 'n' 'B '\n",
            " 'n' 'B ' 'n' 'n' 'M ' 'M ' 'n' 'n' 'n' 'B ' 'n' 'n' 'M ' 'M ' 'n' 'M '\n",
            " 'n' 'n' 'M ' 'n' 'M ' 'n' 'B ' 'n' 'B ' 'B ' 'n' 'B ' 'n' 'B ' 'n' 'n'\n",
            " 'B ' 'B ' 'n' 'n' 'M ' 'n' 'B ' 'n' 'M ' 'B ' 'n' 'M ' 'n' 'M ' 'B ' 'M '\n",
            " 'B ' 'n' 'M ' 'n' 'B ' 'B ' 'n' 'n' 'B ' 'B ' 'n' 'n' 'B ' 'B ' 'n' 'n'\n",
            " 'n' 'M ' 'n' 'M ' 'n' 'n' 'B ' 'n' 'M ' 'M ' 'B ' 'M ' 'n' 'n' 'B ' 'M '\n",
            " 'n' 'n' 'B ' 'M ' 'n' 'n' 'B ' 'M ' 'n' 'n' 'M ' 'n' 'n' 'n' 'n' 'n' 'n'\n",
            " 'n' 'M ' 'M ' 'n' 'M ' 'n' 'n' 'M ' 'M ' 'n' 'n' 'M ' 'n' 'n' 'n' 'n' 'n'\n",
            " 'n' 'n' 'n' 'n' 'n' 'n' 'n' 'n' 'n' 'n' 'B ' 'n' 'n' 'n' 'n' 'n' 'n' 'n'\n",
            " 'n' 'n' 'n' 'n' 'n' 'n' 'n' 'n' 'n' 'n' 'n' 'n' 'n' 'n' 'B ' 'n' 'B '\n",
            " 'B ' 'n' 'n' 'n' 'n' 'n' 'n' 'n']\n",
            "Labels before encoding are:  ['B' 'B ' 'M ' 'n']\n",
            "Labels after encoding are:  [0 1 2]\n"
          ]
        }
      ]
    },
    {
      "cell_type": "markdown",
      "source": [
        "#7. Print Describe label, Radius"
      ],
      "metadata": {
        "id": "gMVUqYbJWIfk"
      }
    },
    {
      "cell_type": "code",
      "source": [
        "#Define the independent variables. Drop label and ID, and normalize other data\n",
        "X = data.drop(labels = [\"REFNUM\", \"TISSUE TYPE\"], axis=1)\n",
        "print(X.describe().T) #Needs scaling"
      ],
      "metadata": {
        "colab": {
          "base_uri": "https://localhost:8080/"
        },
        "id": "eYrAbSbPn4_1",
        "outputId": "2ebdf8b9-67f2-4be2-dd43-7ab2f683336f"
      },
      "execution_count": null,
      "outputs": [
        {
          "output_type": "stream",
          "name": "stdout",
          "text": [
            "        count        mean         std    min    25%    50%    75%    max\n",
            "X       111.0  491.819820  133.455079  127.0  401.5  510.0  572.5  793.0\n",
            "Y       111.0  517.792793  177.968645  125.0  426.0  517.0  620.5  994.0\n",
            "RADIUS  111.0   50.414414   33.894346    3.0   28.0   43.0   62.0  197.0\n"
          ]
        }
      ]
    },
    {
      "cell_type": "markdown",
      "source": [
        "#8. Prints the encoded SEVERITY column"
      ],
      "metadata": {
        "id": "O1rkNdEOWnMI"
      }
    },
    {
      "cell_type": "code",
      "source": [
        "X['SEVERITY'] = Y_severity\n",
        "print(X)"
      ],
      "metadata": {
        "colab": {
          "base_uri": "https://localhost:8080/"
        },
        "id": "0YO2UbN3VTTV",
        "outputId": "49176db7-cdaa-4c60-9639-4bcc38dd2228"
      },
      "execution_count": null,
      "outputs": [
        {
          "output_type": "stream",
          "name": "stdout",
          "text": [
            "     CLASS  SEVERITY      X      Y  RADIUS\n",
            "0    CIRC          1  535.0  425.0   197.0\n",
            "1    CIRC          1  522.0  280.0    69.0\n",
            "2    NORM          3    NaN    NaN     NaN\n",
            "3    NORM          3    NaN    NaN     NaN\n",
            "4    CIRC          1  500.0  168.0    26.0\n",
            "..     ...       ...    ...    ...     ...\n",
            "317  NORM          3    NaN    NaN     NaN\n",
            "318  NORM          3    NaN    NaN     NaN\n",
            "319  NORM          3    NaN    NaN     NaN\n",
            "320  NORM          3    NaN    NaN     NaN\n",
            "321  NORM          3    NaN    NaN     NaN\n",
            "\n",
            "[322 rows x 5 columns]\n"
          ]
        }
      ]
    },
    {
      "cell_type": "markdown",
      "source": [
        "#9. Prints the encoded CLASS values"
      ],
      "metadata": {
        "id": "Yvo-LdoOWulV"
      }
    },
    {
      "cell_type": "code",
      "source": [
        "X['CLASS']=Y_class\n",
        "print(X)\n"
      ],
      "metadata": {
        "colab": {
          "base_uri": "https://localhost:8080/"
        },
        "id": "xeSb7Yjpu96H",
        "outputId": "afd5faad-632c-4143-c5ac-6e76198e1c08"
      },
      "execution_count": null,
      "outputs": [
        {
          "output_type": "stream",
          "name": "stdout",
          "text": [
            "     CLASS  SEVERITY      X      Y  RADIUS\n",
            "0        3         1  535.0  425.0   197.0\n",
            "1        3         1  522.0  280.0    69.0\n",
            "2        5         3    NaN    NaN     NaN\n",
            "3        5         3    NaN    NaN     NaN\n",
            "4        3         1  500.0  168.0    26.0\n",
            "..     ...       ...    ...    ...     ...\n",
            "317      5         3    NaN    NaN     NaN\n",
            "318      5         3    NaN    NaN     NaN\n",
            "319      5         3    NaN    NaN     NaN\n",
            "320      5         3    NaN    NaN     NaN\n",
            "321      5         3    NaN    NaN     NaN\n",
            "\n",
            "[322 rows x 5 columns]\n"
          ]
        }
      ]
    },
    {
      "cell_type": "markdown",
      "source": [
        "#10 Checks to see if data is null"
      ],
      "metadata": {
        "id": "DWKGKnyiWy0d"
      }
    },
    {
      "cell_type": "code",
      "source": [
        "print(data.isnull().sum())"
      ],
      "metadata": {
        "colab": {
          "base_uri": "https://localhost:8080/"
        },
        "id": "Av437GsfP03d",
        "outputId": "eb421f08-ee25-4e82-a893-98dccfb89e38"
      },
      "execution_count": null,
      "outputs": [
        {
          "output_type": "stream",
          "name": "stdout",
          "text": [
            "REFNUM           0\n",
            "TISSUE TYPE      0\n",
            "CLASS            0\n",
            "SEVERITY         0\n",
            "X              211\n",
            "Y              211\n",
            "RADIUS         211\n",
            "dtype: int64\n"
          ]
        }
      ]
    },
    {
      "cell_type": "markdown",
      "source": [
        ":#11. Scaling data for training/testing (Run two times to get the scaled data)"
      ],
      "metadata": {
        "id": "KcO4xgByW3Bw"
      }
    },
    {
      "cell_type": "code",
      "source": [
        "#Scale / normalize the values to bring them to similar range\n",
        "from sklearn.preprocessing import MinMaxScaler\n",
        "print(X)  #Scaled values\n",
        "scaler = MinMaxScaler()\n",
        "\n",
        "scaler.fit(X)\n",
        "X = scaler.transform(X)\n"
      ],
      "metadata": {
        "colab": {
          "base_uri": "https://localhost:8080/"
        },
        "id": "UOT_JaX_oFgw",
        "outputId": "17d3f0f8-b1f8-4f84-c255-57490703b2ac"
      },
      "execution_count": null,
      "outputs": [
        {
          "output_type": "stream",
          "name": "stdout",
          "text": [
            "[[0.5        0.33333333 0.61261261 0.3452244  1.        ]\n",
            " [0.5        0.33333333 0.59309309 0.17836594 0.34020619]\n",
            " [0.83333333 1.                nan        nan        nan]\n",
            " ...\n",
            " [0.83333333 1.                nan        nan        nan]\n",
            " [0.83333333 1.                nan        nan        nan]\n",
            " [0.83333333 1.                nan        nan        nan]]\n"
          ]
        }
      ]
    },
    {
      "cell_type": "markdown",
      "source": [
        "#12. Spliting the Data\n"
      ],
      "metadata": {
        "id": "a7qPnGrQW6y8"
      }
    },
    {
      "cell_type": "code",
      "source": [
        "#Split data into train and test to verify accuracy after fitting the model.\n",
        "from sklearn.model_selection import train_test_split\n",
        "X_train, X_test, y_train, y_test = train_test_split(X, Y, test_size=0.25, random_state=42)\n",
        "print(\"Shape of training data is: \", X_train.shape)\n",
        "print(\"Shape of testing data is: \", X_test.shape)"
      ],
      "metadata": {
        "id": "PdPIMIoyqiXm",
        "colab": {
          "base_uri": "https://localhost:8080/"
        },
        "outputId": "f8477298-3ed8-41cc-ed37-784cef027fde"
      },
      "execution_count": null,
      "outputs": [
        {
          "output_type": "stream",
          "name": "stdout",
          "text": [
            "Shape of training data is:  (241, 5)\n",
            "Shape of testing data is:  (81, 5)\n"
          ]
        }
      ]
    },
    {
      "cell_type": "markdown",
      "source": [
        "#13. getting the shape values of data"
      ],
      "metadata": {
        "id": "_HhnMLUEXApB"
      }
    },
    {
      "cell_type": "code",
      "source": [
        "from torch.utils.data.dataset import TensorDataset\n",
        "#getting data shape and assigning testing and training data\n",
        "data.shape\n",
        "\n",
        "\n",
        "#starting and ending of data points\n",
        "training_data = data[0:300]\n",
        "testing_data= data[300:]\n",
        "\n",
        "#number of testing and training data shapes\n",
        "print(f\"Testing Data: \", testing_data.shape) #Testing ther accurtacy of the model\n",
        "print(f\"Trainng Data \", training_data.shape) #data to create the model\n"
      ],
      "metadata": {
        "colab": {
          "base_uri": "https://localhost:8080/"
        },
        "id": "NeE3EGD3kJRx",
        "outputId": "e3e8ab30-bfd2-4b05-96f4-cee8daef4036"
      },
      "execution_count": null,
      "outputs": [
        {
          "output_type": "stream",
          "name": "stdout",
          "text": [
            "Testing Data:  (22, 7)\n",
            "Trainng Data  (300, 7)\n"
          ]
        }
      ]
    },
    {
      "cell_type": "markdown",
      "source": [
        "#14. Importing test data with Torch"
      ],
      "metadata": {
        "id": "GpjnptzlXy12"
      }
    },
    {
      "cell_type": "code",
      "source": [
        "import torch\n",
        "Y_test = torch.from_numpy(X_test)\n",
        "Y_test = torch.from_numpy(np.asarray(Y_test))"
      ],
      "metadata": {
        "id": "5E4D-nEyRGsL"
      },
      "execution_count": null,
      "outputs": []
    },
    {
      "cell_type": "markdown",
      "source": [
        "#15. Creating the Sequential Model (RUN THIS BEFORE THE MIASClassifier MODEL!!)\n"
      ],
      "metadata": {
        "id": "nnXli9D4Xpua"
      }
    },
    {
      "cell_type": "code",
      "source": [
        "import numpy as np\n",
        "import torch\n",
        "import torch.nn as nn\n",
        "import torch.optim as optim\n",
        "\n",
        "model = nn.Sequential(\n",
        "    nn.Linear(7, 12),\n",
        "    nn.ReLU(),\n",
        "    nn.Linear(12,7),\n",
        "    nn.ReLU(),\n",
        "    nn.Linear(7, 1),\n",
        "    nn.Sigmoid())\n",
        "print(model)"
      ],
      "metadata": {
        "id": "SdORSzG74oJK",
        "colab": {
          "base_uri": "https://localhost:8080/"
        },
        "outputId": "bcc28168-3954-407a-9f05-7724e7f76ef7"
      },
      "execution_count": null,
      "outputs": [
        {
          "output_type": "stream",
          "name": "stdout",
          "text": [
            "Sequential(\n",
            "  (0): Linear(in_features=7, out_features=12, bias=True)\n",
            "  (1): ReLU()\n",
            "  (2): Linear(in_features=12, out_features=7, bias=True)\n",
            "  (3): ReLU()\n",
            "  (4): Linear(in_features=7, out_features=1, bias=True)\n",
            "  (5): Sigmoid()\n",
            ")\n"
          ]
        }
      ]
    },
    {
      "cell_type": "markdown",
      "source": [
        "#16. Check The torch version"
      ],
      "metadata": {
        "id": "opvchHQkYLbz"
      }
    },
    {
      "cell_type": "code",
      "source": [
        "print(torch.__version__)"
      ],
      "metadata": {
        "id": "27ux11txo9yU",
        "colab": {
          "base_uri": "https://localhost:8080/"
        },
        "outputId": "b0f9b044-a3f4-49de-eb4f-6df66189fed2"
      },
      "execution_count": null,
      "outputs": [
        {
          "output_type": "stream",
          "name": "stdout",
          "text": [
            "2.0.0+cu118\n"
          ]
        }
      ]
    },
    {
      "cell_type": "markdown",
      "source": [
        "#17. Running the MIASClassifier Model"
      ],
      "metadata": {
        "id": "p1bmzHig5jxZ"
      }
    },
    {
      "cell_type": "code",
      "source": [
        "import numpy as np\n",
        "import torch\n",
        "import torch.nn as nn\n",
        "import torch.optim as optim\n",
        "\n",
        "from torch.utils.data import Dataset, DataLoader\n",
        "\n",
        "class MIASClassifier(nn.Module):\n",
        "    def __init__(self, device,n_inputs, lr =.01):\n",
        "        super(model,self).__init__()\n",
        "        self.hidden1 = nn.Linear(7, 12)\n",
        "        self.device = device\n",
        "        self.n_inputs = n_inputs\n",
        "        self.lr = lr\n",
        "        self.dense1 = nn.Linear(in_features=n_inputs, out_features=64).cuda(device=self.device)\n",
        "        self.dense2 = nn.Linear(in_features=64, out_features=32).cuda(device=self.device)\n",
        "        self.out = nn.Linear(in_features=32, out_features=1).cuda(device=self.device)\n",
        "        self.act1 = nn.ReLU()\n",
        "        self.hidden2 = nn.Linear(12, 7)\n",
        "        self.act2 = nn.ReLU()\n",
        "        self.output = nn.Linear(7, 1)\n",
        "        self.act_output = nn.Sigmoid()\n",
        "    def __call__(t):\n",
        "       return self.forward(t)\n",
        "\n",
        "    def forward(self,t):\n",
        "        # (1) input layer\n",
        "        t = t\n",
        "\n",
        "        # (2) hidden dense layer\n",
        "        t = self.dense1(t)\n",
        "        t = F.relu(t)\n",
        "\n",
        "        # (3) hidden dense layer\n",
        "        t = self.dense2(t)\n",
        "        t = F.relu(t)\n",
        "\n",
        "        # (4) output_layer\n",
        "        t = self.out(t)\n",
        "        t = torch.sigmoid(t)\n",
        "\n",
        "        return t\n",
        "        model = MIASClassifier()\n",
        "    def __len__(self):\n",
        "      return self.len\n",
        "\n",
        "loader=DataLoader(dataset=data,batch_size=64)\n",
        "#printing model\n",
        "print(model)\n",
        "for name, param in model.named_parameters():\n",
        "    print(f\"Layer: {name} | Size: {param.size()} | Values : {param[:2]} \\n\")\n",
        "\n"
      ],
      "metadata": {
        "id": "C5qCto9UUk8Z",
        "colab": {
          "base_uri": "https://localhost:8080/"
        },
        "outputId": "00252c62-b40b-4bda-8572-4987f7608ff4"
      },
      "execution_count": null,
      "outputs": [
        {
          "output_type": "stream",
          "name": "stdout",
          "text": [
            "Sequential(\n",
            "  (0): Linear(in_features=7, out_features=12, bias=True)\n",
            "  (1): ReLU()\n",
            "  (2): Linear(in_features=12, out_features=7, bias=True)\n",
            "  (3): ReLU()\n",
            "  (4): Linear(in_features=7, out_features=1, bias=True)\n",
            "  (5): Sigmoid()\n",
            ")\n",
            "Layer: 0.weight | Size: torch.Size([12, 7]) | Values : tensor([[ 0.1437, -0.0177, -0.2519, -0.2692, -0.1328, -0.3361,  0.2160],\n",
            "        [ 0.2470, -0.0797, -0.1099,  0.2769,  0.1235,  0.2944, -0.2404]],\n",
            "       grad_fn=<SliceBackward0>) \n",
            "\n",
            "Layer: 0.bias | Size: torch.Size([12]) | Values : tensor([-0.1763, -0.0896], grad_fn=<SliceBackward0>) \n",
            "\n",
            "Layer: 2.weight | Size: torch.Size([7, 12]) | Values : tensor([[ 0.0126, -0.2366,  0.0855,  0.2124,  0.1292,  0.2653,  0.2403, -0.1799,\n",
            "          0.2161,  0.1450, -0.1619, -0.0166],\n",
            "        [-0.1435,  0.2572,  0.0038, -0.1798,  0.2287, -0.0505, -0.2255,  0.0399,\n",
            "         -0.2766,  0.1682,  0.1133,  0.0189]], grad_fn=<SliceBackward0>) \n",
            "\n",
            "Layer: 2.bias | Size: torch.Size([7]) | Values : tensor([ 0.1548, -0.2313], grad_fn=<SliceBackward0>) \n",
            "\n",
            "Layer: 4.weight | Size: torch.Size([1, 7]) | Values : tensor([[-0.1550,  0.3336, -0.2508,  0.1189,  0.0210, -0.2599,  0.3254]],\n",
            "       grad_fn=<SliceBackward0>) \n",
            "\n",
            "Layer: 4.bias | Size: torch.Size([1]) | Values : tensor([0.1253], grad_fn=<SliceBackward0>) \n",
            "\n"
          ]
        }
      ]
    },
    {
      "cell_type": "code",
      "source": [
        "#import torch.optim as optim\n",
        "#criterion = nn.CrossEntropyLoss()\n",
        "#optimizer = optim.SGD(model.parameters(), lr = 0.001, momentum=0.9)\n",
        "\n",
        "#batch_size= 32\n",
        "#n_inputs = len(X_train)\n",
        "#n_batch = n_samples/batch_size\n",
        "\n",
        "## x_train = X_train[i*batch_size, (i+1)*batch_size]"
      ],
      "metadata": {
        "id": "307x06hae23D"
      },
      "execution_count": null,
      "outputs": []
    },
    {
      "cell_type": "markdown",
      "source": [
        "#18. Training the Proposed method (MIASClassification data) (This will cause errors for the Keras if this is run before it. Uncomment after you get the results from the keras model)"
      ],
      "metadata": {
        "id": "FKxJsDUzYhiP"
      }
    },
    {
      "cell_type": "code",
      "source": [
        "from torchvision.transforms.transforms import ToTensor\n",
        "import torch\n",
        "from torch import nn\n",
        "from torchvision import datasets,transforms\n",
        "from torch.utils.data import DataLoader\n",
        "\n",
        "#checking GPU\n",
        "is_gpu = torch.cuda.is_available()\n",
        "\n",
        "# Split data into train and test sets\n",
        "#from sklearn.model_selection import train_test_split\n",
        "#X_train, X_test, y_train, y_test = train_test_split(X, y, test_size=0.2, random_state=42) # make the random split reproducible\n",
        "\n",
        "#Lengths of testing and training\n",
        "len(X_train), len(X_test), len(y_train), len(y_test)\n",
        "\n",
        "\n",
        "\n",
        "transforms = transforms.Compose([transforms.ToTensor()])\n",
        "\n",
        "#Loading testing and training data\n",
        "trainloader = DataLoader(X_train, batch_size= 32, shuffle=True)\n",
        "testloader = DataLoader(y_test, batch_size= 32, shuffle=True)\n",
        "\n",
        "#optimizer and loss types\n",
        "criterion = nn.CrossEntropyLoss()\n",
        "optimizer = optim.SGD(model.parameters(),lr=0.01)\n",
        "\n",
        "epochs = 100\n",
        "\n",
        "for i in range(epochs):\n",
        "  train_loss = 0.1\n",
        "  for data in trainloader:\n",
        "        if is_gpu:\n",
        "            data, label = data.cuda(), label.cuda()\n",
        "        optimizer.zero_grad()\n",
        "\n",
        "        #output = model (data)\n",
        "        #loss = criterion(optimizer)\n",
        "        #loss.backward()\n",
        "\n",
        "        #optimizer.step()\n",
        "\n",
        "        #train_loss += loss.item() * data.size(0)\n",
        "print(f'Epoch: {i+1} / {epochs} \\t\\t\\t Training Loss:{train_loss/len(trainloader)}')"
      ],
      "metadata": {
        "id": "rVZbxWVdjr57",
        "colab": {
          "base_uri": "https://localhost:8080/"
        },
        "outputId": "2c1630b1-8a0b-4db0-b792-e3ed3c3fe5ec"
      },
      "execution_count": null,
      "outputs": [
        {
          "output_type": "stream",
          "name": "stdout",
          "text": [
            "Epoch: 100 / 100 \t\t\t Training Loss:0.0125\n"
          ]
        }
      ]
    },
    {
      "cell_type": "markdown",
      "source": [
        "KERAS Benchmark"
      ],
      "metadata": {
        "id": "rIXgSCO0tmGN"
      }
    },
    {
      "cell_type": "markdown",
      "source": [
        "#19. Running the Keras Model and print the model summary"
      ],
      "metadata": {
        "id": "nXwLoELvYp11"
      }
    },
    {
      "cell_type": "code",
      "source": [
        "from keras.models import Sequential\n",
        "from keras.layers import Dense, Activation, Dropout\n",
        "import keras.backend as K\n",
        "\n",
        "model = Sequential()\n",
        "opt = tf.keras.optimizers.Adam(learning_rate=0.05)\n",
        "model.add(Dense(260, input_dim=5, activation='relu'))\n",
        "model.add(Dropout(0.2))\n",
        "model.add(Dense(1))\n",
        "model.add(Activation('sigmoid'))\n",
        "\n",
        "model.compile(loss='categorial_crossentropy', optimizer='adam', metrics=['accuracy'])\n",
        "\n",
        "print(model.summary())\n",
        "print('Learning rate: ',K.eval(model.optimizer.learning_rate))"
      ],
      "metadata": {
        "id": "snFfJ93QtLYF",
        "colab": {
          "base_uri": "https://localhost:8080/"
        },
        "outputId": "26133c5d-b300-468c-9058-5fbf453995d1"
      },
      "execution_count": null,
      "outputs": [
        {
          "output_type": "stream",
          "name": "stdout",
          "text": [
            "Model: \"sequential_1\"\n",
            "_________________________________________________________________\n",
            " Layer (type)                Output Shape              Param #   \n",
            "=================================================================\n",
            " dense_2 (Dense)             (None, 260)               1560      \n",
            "                                                                 \n",
            " dropout_1 (Dropout)         (None, 260)               0         \n",
            "                                                                 \n",
            " dense_3 (Dense)             (None, 1)                 261       \n",
            "                                                                 \n",
            " activation_1 (Activation)   (None, 1)                 0         \n",
            "                                                                 \n",
            "=================================================================\n",
            "Total params: 1,821\n",
            "Trainable params: 1,821\n",
            "Non-trainable params: 0\n",
            "_________________________________________________________________\n",
            "None\n",
            "Learning rate:  0.001\n"
          ]
        }
      ]
    },
    {
      "cell_type": "markdown",
      "source": [
        "#20. Compiling the Keras Model"
      ],
      "metadata": {
        "id": "G9ekleDQZZ-c"
      }
    },
    {
      "cell_type": "code",
      "source": [
        "#compile model using accuracy to measure model performance\n",
        "model.compile(optimizer='adam', loss='categorical_crossentropy',metrics=['accuracy'])"
      ],
      "metadata": {
        "id": "lSxHxYHCiqbE"
      },
      "execution_count": null,
      "outputs": []
    },
    {
      "cell_type": "markdown",
      "source": [
        "#21. Fitting the model and training/testing the data"
      ],
      "metadata": {
        "id": "YP4EWWmHZc4C"
      }
    },
    {
      "cell_type": "code",
      "source": [
        "model.fit(X_train,y_train, verbose =1,epochs=100,batch_size=32,validation_data=(X_test,y_test))\n"
      ],
      "metadata": {
        "id": "xqbAPRYdUIcj",
        "colab": {
          "base_uri": "https://localhost:8080/"
        },
        "outputId": "b1cd37f7-c35b-46db-b45e-0d55a7fea1e2"
      },
      "execution_count": null,
      "outputs": [
        {
          "output_type": "stream",
          "name": "stdout",
          "text": [
            "Epoch 1/100\n"
          ]
        },
        {
          "output_type": "stream",
          "name": "stderr",
          "text": [
            "/usr/local/lib/python3.9/dist-packages/tensorflow/python/util/dispatch.py:1176: SyntaxWarning: In loss categorical_crossentropy, expected y_pred.shape to be (batch_size, num_classes) with num_classes > 1. Received: y_pred.shape=(None, 1). Consider using 'binary_crossentropy' if you only have 2 classes.\n",
            "  return dispatch_target(*args, **kwargs)\n"
          ]
        },
        {
          "output_type": "stream",
          "name": "stdout",
          "text": [
            "8/8 [==============================] - 1s 32ms/step - loss: nan - accuracy: 0.3610 - val_loss: nan - val_accuracy: 0.3086\n",
            "Epoch 2/100\n",
            "8/8 [==============================] - 0s 9ms/step - loss: nan - accuracy: 0.3610 - val_loss: nan - val_accuracy: 0.3086\n",
            "Epoch 3/100\n",
            "8/8 [==============================] - 0s 7ms/step - loss: nan - accuracy: 0.3610 - val_loss: nan - val_accuracy: 0.3086\n",
            "Epoch 4/100\n",
            "8/8 [==============================] - 0s 7ms/step - loss: nan - accuracy: 0.3610 - val_loss: nan - val_accuracy: 0.3086\n",
            "Epoch 5/100\n",
            "8/8 [==============================] - 0s 7ms/step - loss: nan - accuracy: 0.3610 - val_loss: nan - val_accuracy: 0.3086\n",
            "Epoch 6/100\n",
            "8/8 [==============================] - 0s 7ms/step - loss: nan - accuracy: 0.3610 - val_loss: nan - val_accuracy: 0.3086\n",
            "Epoch 7/100\n",
            "8/8 [==============================] - 0s 9ms/step - loss: nan - accuracy: 0.3610 - val_loss: nan - val_accuracy: 0.3086\n",
            "Epoch 8/100\n",
            "8/8 [==============================] - 0s 8ms/step - loss: nan - accuracy: 0.3610 - val_loss: nan - val_accuracy: 0.3086\n",
            "Epoch 9/100\n",
            "8/8 [==============================] - 0s 7ms/step - loss: nan - accuracy: 0.3610 - val_loss: nan - val_accuracy: 0.3086\n",
            "Epoch 10/100\n",
            "8/8 [==============================] - 0s 9ms/step - loss: nan - accuracy: 0.3610 - val_loss: nan - val_accuracy: 0.3086\n",
            "Epoch 11/100\n",
            "8/8 [==============================] - 0s 7ms/step - loss: nan - accuracy: 0.3610 - val_loss: nan - val_accuracy: 0.3086\n",
            "Epoch 12/100\n",
            "8/8 [==============================] - 0s 10ms/step - loss: nan - accuracy: 0.3610 - val_loss: nan - val_accuracy: 0.3086\n",
            "Epoch 13/100\n",
            "8/8 [==============================] - 0s 9ms/step - loss: nan - accuracy: 0.3610 - val_loss: nan - val_accuracy: 0.3086\n",
            "Epoch 14/100\n",
            "8/8 [==============================] - 0s 10ms/step - loss: nan - accuracy: 0.3610 - val_loss: nan - val_accuracy: 0.3086\n",
            "Epoch 15/100\n",
            "8/8 [==============================] - 0s 9ms/step - loss: nan - accuracy: 0.3610 - val_loss: nan - val_accuracy: 0.3086\n",
            "Epoch 16/100\n",
            "8/8 [==============================] - 0s 9ms/step - loss: nan - accuracy: 0.3610 - val_loss: nan - val_accuracy: 0.3086\n",
            "Epoch 17/100\n",
            "8/8 [==============================] - 0s 9ms/step - loss: nan - accuracy: 0.3610 - val_loss: nan - val_accuracy: 0.3086\n",
            "Epoch 18/100\n",
            "8/8 [==============================] - 0s 9ms/step - loss: nan - accuracy: 0.3610 - val_loss: nan - val_accuracy: 0.3086\n",
            "Epoch 19/100\n",
            "8/8 [==============================] - 0s 8ms/step - loss: nan - accuracy: 0.3610 - val_loss: nan - val_accuracy: 0.3086\n",
            "Epoch 20/100\n",
            "8/8 [==============================] - 0s 7ms/step - loss: nan - accuracy: 0.3610 - val_loss: nan - val_accuracy: 0.3086\n",
            "Epoch 21/100\n",
            "8/8 [==============================] - 0s 7ms/step - loss: nan - accuracy: 0.3610 - val_loss: nan - val_accuracy: 0.3086\n",
            "Epoch 22/100\n",
            "8/8 [==============================] - 0s 8ms/step - loss: nan - accuracy: 0.3610 - val_loss: nan - val_accuracy: 0.3086\n",
            "Epoch 23/100\n",
            "8/8 [==============================] - 0s 6ms/step - loss: nan - accuracy: 0.3610 - val_loss: nan - val_accuracy: 0.3086\n",
            "Epoch 24/100\n",
            "8/8 [==============================] - 0s 10ms/step - loss: nan - accuracy: 0.3610 - val_loss: nan - val_accuracy: 0.3086\n",
            "Epoch 25/100\n",
            "8/8 [==============================] - 0s 7ms/step - loss: nan - accuracy: 0.3610 - val_loss: nan - val_accuracy: 0.3086\n",
            "Epoch 26/100\n",
            "8/8 [==============================] - 0s 9ms/step - loss: nan - accuracy: 0.3610 - val_loss: nan - val_accuracy: 0.3086\n",
            "Epoch 27/100\n",
            "8/8 [==============================] - 0s 9ms/step - loss: nan - accuracy: 0.3610 - val_loss: nan - val_accuracy: 0.3086\n",
            "Epoch 28/100\n",
            "8/8 [==============================] - 0s 7ms/step - loss: nan - accuracy: 0.3610 - val_loss: nan - val_accuracy: 0.3086\n",
            "Epoch 29/100\n",
            "8/8 [==============================] - 0s 7ms/step - loss: nan - accuracy: 0.3610 - val_loss: nan - val_accuracy: 0.3086\n",
            "Epoch 30/100\n",
            "8/8 [==============================] - 0s 9ms/step - loss: nan - accuracy: 0.3610 - val_loss: nan - val_accuracy: 0.3086\n",
            "Epoch 31/100\n",
            "8/8 [==============================] - 0s 10ms/step - loss: nan - accuracy: 0.3610 - val_loss: nan - val_accuracy: 0.3086\n",
            "Epoch 32/100\n",
            "8/8 [==============================] - 0s 12ms/step - loss: nan - accuracy: 0.3610 - val_loss: nan - val_accuracy: 0.3086\n",
            "Epoch 33/100\n",
            "8/8 [==============================] - 0s 13ms/step - loss: nan - accuracy: 0.3610 - val_loss: nan - val_accuracy: 0.3086\n",
            "Epoch 34/100\n",
            "8/8 [==============================] - 0s 12ms/step - loss: nan - accuracy: 0.3610 - val_loss: nan - val_accuracy: 0.3086\n",
            "Epoch 35/100\n",
            "8/8 [==============================] - 0s 11ms/step - loss: nan - accuracy: 0.3610 - val_loss: nan - val_accuracy: 0.3086\n",
            "Epoch 36/100\n",
            "8/8 [==============================] - 0s 12ms/step - loss: nan - accuracy: 0.3610 - val_loss: nan - val_accuracy: 0.3086\n",
            "Epoch 37/100\n",
            "8/8 [==============================] - 0s 11ms/step - loss: nan - accuracy: 0.3610 - val_loss: nan - val_accuracy: 0.3086\n",
            "Epoch 38/100\n",
            "8/8 [==============================] - 0s 11ms/step - loss: nan - accuracy: 0.3610 - val_loss: nan - val_accuracy: 0.3086\n",
            "Epoch 39/100\n",
            "8/8 [==============================] - 0s 10ms/step - loss: nan - accuracy: 0.3610 - val_loss: nan - val_accuracy: 0.3086\n",
            "Epoch 40/100\n",
            "8/8 [==============================] - 0s 9ms/step - loss: nan - accuracy: 0.3610 - val_loss: nan - val_accuracy: 0.3086\n",
            "Epoch 41/100\n",
            "8/8 [==============================] - 0s 11ms/step - loss: nan - accuracy: 0.3610 - val_loss: nan - val_accuracy: 0.3086\n",
            "Epoch 42/100\n",
            "8/8 [==============================] - 0s 10ms/step - loss: nan - accuracy: 0.3610 - val_loss: nan - val_accuracy: 0.3086\n",
            "Epoch 43/100\n",
            "8/8 [==============================] - 0s 9ms/step - loss: nan - accuracy: 0.3610 - val_loss: nan - val_accuracy: 0.3086\n",
            "Epoch 44/100\n",
            "8/8 [==============================] - 0s 11ms/step - loss: nan - accuracy: 0.3610 - val_loss: nan - val_accuracy: 0.3086\n",
            "Epoch 45/100\n",
            "8/8 [==============================] - 0s 12ms/step - loss: nan - accuracy: 0.3610 - val_loss: nan - val_accuracy: 0.3086\n",
            "Epoch 46/100\n",
            "8/8 [==============================] - 0s 10ms/step - loss: nan - accuracy: 0.3610 - val_loss: nan - val_accuracy: 0.3086\n",
            "Epoch 47/100\n",
            "8/8 [==============================] - 0s 11ms/step - loss: nan - accuracy: 0.3610 - val_loss: nan - val_accuracy: 0.3086\n",
            "Epoch 48/100\n",
            "8/8 [==============================] - 0s 11ms/step - loss: nan - accuracy: 0.3610 - val_loss: nan - val_accuracy: 0.3086\n",
            "Epoch 49/100\n",
            "8/8 [==============================] - 0s 9ms/step - loss: nan - accuracy: 0.3610 - val_loss: nan - val_accuracy: 0.3086\n",
            "Epoch 50/100\n",
            "8/8 [==============================] - 0s 10ms/step - loss: nan - accuracy: 0.3610 - val_loss: nan - val_accuracy: 0.3086\n",
            "Epoch 51/100\n",
            "8/8 [==============================] - 0s 11ms/step - loss: nan - accuracy: 0.3610 - val_loss: nan - val_accuracy: 0.3086\n",
            "Epoch 52/100\n",
            "8/8 [==============================] - 0s 10ms/step - loss: nan - accuracy: 0.3610 - val_loss: nan - val_accuracy: 0.3086\n",
            "Epoch 53/100\n",
            "1/8 [==>...........................] - ETA: 0s - loss: nan - accuracy: 0.3438"
          ]
        }
      ]
    },
    {
      "cell_type": "code",
      "source": [
        "import PIL\n",
        "import matplotlib.pyplot as plt\n",
        "from PIL import Image\n",
        "\n",
        "img = np.asarray(Image.open('/content/drive/MyDrive/Colab Notebooks/Group4_AI_Project/Preprocessing Pics/mdb120.pgm'))\n",
        "print(repr(img))\n",
        "\n",
        "#Changing colormap to see if we can find any abnormalioties based on enhancing the image\n",
        "imgplot=plt.imshow(img)\n",
        "imgplot.set_cmap('nipy_spectral')\n"
      ],
      "metadata": {
        "id": "kqn78X6DLbFI",
        "colab": {
          "base_uri": "https://localhost:8080/",
          "height": 563
        },
        "outputId": "79a803d5-4fa9-4b79-8008-6cd444f36c81"
      },
      "execution_count": null,
      "outputs": [
        {
          "output_type": "stream",
          "name": "stdout",
          "text": [
            "array([[0, 0, 0, ..., 0, 0, 0],\n",
            "       [0, 0, 0, ..., 0, 0, 0],\n",
            "       [0, 0, 0, ..., 0, 0, 0],\n",
            "       ...,\n",
            "       [0, 0, 0, ..., 0, 0, 0],\n",
            "       [0, 0, 0, ..., 0, 0, 0],\n",
            "       [0, 0, 0, ..., 0, 0, 0]], dtype=uint8)\n"
          ]
        },
        {
          "output_type": "display_data",
          "data": {
            "text/plain": [
              "<Figure size 640x480 with 1 Axes>"
            ],
            "image/png": "[encoded data removed]"
          },
          "metadata": {}
        }
      ]
    }
  ]
}